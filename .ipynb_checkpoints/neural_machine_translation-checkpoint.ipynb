{
 "cells": [
  {
   "cell_type": "code",
   "execution_count": 1,
   "metadata": {},
   "outputs": [
    {
     "name": "stderr",
     "output_type": "stream",
     "text": [
      "/Users/shivanikohli/Documents/anaconda3/lib/python3.6/site-packages/h5py/__init__.py:34: FutureWarning: Conversion of the second argument of issubdtype from `float` to `np.floating` is deprecated. In future, it will be treated as `np.float64 == np.dtype(float).type`.\n",
      "  from ._conv import register_converters as _register_converters\n"
     ]
    }
   ],
   "source": [
    "# dependencies\n",
    "import tensorflow as tf\n",
    "import numpy as np\n",
    "from sklearn.model_selection import train_test_split\n",
    "import time\n",
    "import pickle\n",
    "import data_utils\n",
    "import matplotlib.pyplot as plt"
   ]
  },
  {
   "cell_type": "code",
   "execution_count": 4,
   "metadata": {},
   "outputs": [],
   "source": [
    "from collections import Counter\n",
    "\n",
    "def read_sentences(file_path):\n",
    "\tsentences = []\n",
    "\n",
    "\twith open(file_path, 'r') as reader:\n",
    "\t\tfor s in reader:\n",
    "\t\t\tsentences.append(s.strip())\n",
    "\n",
    "\treturn sentences\n",
    "\n",
    "def iteritems(dic):\n",
    "    return iter([(key, dic[key]) for key in dic])\n",
    "\n",
    "def create_dataset(en_sentences, de_sentences):\n",
    "\n",
    "\ten_vocab_dict = Counter(word.strip(',.\" ;:)(][?!') for sentence in en_sentences for word in sentence.split())\n",
    "\tde_vocab_dict = Counter(word.strip(',.\" ;:)(][?!') for sentence in de_sentences for word in sentence.split())\n",
    "\n",
    "\ten_vocab = list(map(lambda x: x[0], sorted(en_vocab_dict.items(), key = lambda x: -x[1])))\n",
    "\tde_vocab = list(map(lambda x: x[0], sorted(de_vocab_dict.items(), key = lambda x: -x[1])))\n",
    "\n",
    "\ten_vocab = en_vocab[:20000]\n",
    "\tde_vocab = de_vocab[:30000]\n",
    "\n",
    "\tstart_idx = 2\n",
    "\ten_word2idx = dict([(word, idx+start_idx) for idx, word in enumerate(en_vocab)])\n",
    "\ten_word2idx['<ukn>'] = 0\n",
    "\ten_word2idx['<pad>'] = 1\n",
    "\n",
    "\ten_idx2word = dict([(idx, word) for word, idx in iteritems(en_word2idx)])\n",
    "\n",
    "\n",
    "\tstart_idx = 4\n",
    "\tde_word2idx = dict([(word, idx+start_idx) for idx, word in enumerate(de_vocab)])\n",
    "\tde_word2idx['<ukn>'] = 0\n",
    "\tde_word2idx['<go>']  = 1\n",
    "\tde_word2idx['<eos>'] = 2\n",
    "\tde_word2idx['<pad>'] = 3\n",
    "\n",
    "\tde_idx2word = dict([(idx, word) for word, idx in iteritems(de_word2idx)])\n",
    "\n",
    "\tx = [[en_word2idx.get(word.strip(',.\" ;:)(][?!'), 0) for word in sentence.split()] for sentence in en_sentences]\n",
    "\ty = [[de_word2idx.get(word.strip(',.\" ;:)(][?!'), 0) for word in sentence.split()] for sentence in de_sentences]\n",
    "\n",
    "\tX = []\n",
    "\tY = []\n",
    "\tfor i in range(len(x)):\n",
    "\t\tn1 = len(x[i])\n",
    "\t\tn2 = len(y[i])\n",
    "\t\tn = n1 if n1 < n2 else n2 \n",
    "\t\tif abs(n1 - n2) <= 0.3 * n:\n",
    "\t\t\tif n1 <= 15 and n2 <= 15:\n",
    "\t\t\t\tX.append(x[i])\n",
    "\t\t\t\tY.append(y[i])\n",
    "\n",
    "\treturn X, Y, en_word2idx, en_idx2word, en_vocab, de_word2idx, de_idx2word, de_vocab\n",
    "\n",
    "def save_dataset(file_path, obj):\n",
    "\twith open(file_path, 'wb') as f:\n",
    "\t\tpickle.dump(obj, f, -1)\n",
    "\n",
    "def main():\n",
    "    en_sentences = read_sentences('bible.en')\n",
    "    de_sentences = read_sentences('bible.san')\n",
    "\n",
    "    save_dataset('./bible.pkl', create_dataset(en_sentences, de_sentences))\n",
    "    save_dataset('./bible2.pkl', create_dataset(de_sentences, en_sentences))"
   ]
  },
  {
   "cell_type": "code",
   "execution_count": 5,
   "metadata": {},
   "outputs": [],
   "source": [
    "main()"
   ]
  },
  {
   "cell_type": "code",
   "execution_count": 6,
   "metadata": {},
   "outputs": [],
   "source": [
    "# read dataset\n",
    "def read_dataset(file_path):\n",
    "    with open(file_path, 'rb') as f:\n",
    "        return pickle.load(f,encoding=\"utf_8\")\n",
    "\n",
    "X, Y, en_word2idx, en_idx2word, en_vocab, de_word2idx, de_idx2word, de_vocab = read_dataset('bible2.pkl')"
   ]
  },
  {
   "cell_type": "code",
   "execution_count": 8,
   "metadata": {},
   "outputs": [],
   "source": [
    "# data processing\n",
    "\n",
    "# data padding\n",
    "def data_padding(x, y, length = 15):\n",
    "    for i in range(len(x)):\n",
    "        x[i] = x[i] + (length - len(x[i])) * [en_word2idx['<pad>']]\n",
    "        y[i] = [de_word2idx['<go>']] + y[i] + [de_word2idx['<eos>']] + (length-len(y[i])) * [de_word2idx['<pad>']]\n",
    "\n",
    "data_padding(X, Y)\n",
    "\n",
    "# data splitting\n",
    "X_train,  X_test, Y_train, Y_test = train_test_split(X, Y, test_size = 0.1)\n",
    "\n",
    "del X\n",
    "del Y"
   ]
  },
  {
   "cell_type": "code",
   "execution_count": 9,
   "metadata": {},
   "outputs": [
    {
     "data": {
      "text/plain": [
       "(9, 17)"
      ]
     },
     "execution_count": 9,
     "metadata": {},
     "output_type": "execute_result"
    }
   ],
   "source": [
    "np.array(Y_test).shape"
   ]
  },
  {
   "cell_type": "code",
   "execution_count": 10,
   "metadata": {},
   "outputs": [],
   "source": [
    "# build a model\n",
    "\n",
    "input_seq_len = 15\n",
    "output_seq_len = 17\n",
    "en_vocab_size = len(en_vocab) + 2 # + <pad>, <ukn>\n",
    "de_vocab_size = len(de_vocab) + 4 # + <pad>, <ukn>, <eos>, <go>\n",
    "\n",
    "# placeholders\n",
    "encoder_inputs = [tf.placeholder(dtype = tf.int32, shape = [None], name = 'encoder{}'.format(i)) for i in range(input_seq_len)]\n",
    "decoder_inputs = [tf.placeholder(dtype = tf.int32, shape = [None], name = 'decoder{}'.format(i)) for i in range(output_seq_len)]\n",
    "\n",
    "targets = [decoder_inputs[i+1] for i in range(output_seq_len-1)]\n",
    "# add one more target\n",
    "targets.append(tf.placeholder(dtype = tf.int32, shape = [None], name = 'last_target'))\n",
    "target_weights = [tf.placeholder(dtype = tf.float32, shape = [None], name = 'target_w{}'.format(i)) for i in range(output_seq_len)]\n",
    "\n",
    "# output projection\n",
    "size = 512\n",
    "w_t = tf.get_variable('proj_w', [de_vocab_size, size], tf.float32)\n",
    "b = tf.get_variable('proj_b', [de_vocab_size], tf.float32)\n",
    "w = tf.transpose(w_t)\n",
    "output_projection = (w, b)\n",
    "\n",
    "outputs, states = tf.contrib.legacy_seq2seq.embedding_attention_seq2seq(\n",
    "                                            encoder_inputs,\n",
    "                                            decoder_inputs,\n",
    "                                            tf.contrib.rnn.BasicLSTMCell(size),\n",
    "                                            num_encoder_symbols = en_vocab_size,\n",
    "                                            num_decoder_symbols = de_vocab_size,\n",
    "                                            embedding_size = 100,\n",
    "                                            feed_previous = False,\n",
    "                                            output_projection = output_projection,\n",
    "                                            dtype = tf.float32)"
   ]
  },
  {
   "cell_type": "code",
   "execution_count": 11,
   "metadata": {},
   "outputs": [
    {
     "name": "stdout",
     "output_type": "stream",
     "text": [
      "WARNING:tensorflow:From /Users/shivanikohli/Documents/anaconda3/lib/python3.6/site-packages/tensorflow/python/ops/nn_impl.py:1346: softmax_cross_entropy_with_logits (from tensorflow.python.ops.nn_ops) is deprecated and will be removed in a future version.\n",
      "Instructions for updating:\n",
      "\n",
      "Future major versions of TensorFlow will allow gradients to flow\n",
      "into the labels input on backprop by default.\n",
      "\n",
      "See tf.nn.softmax_cross_entropy_with_logits_v2.\n",
      "\n"
     ]
    }
   ],
   "source": [
    "# define our loss function\n",
    "\n",
    "# sampled softmax loss - returns: A batch_size 1-D tensor of per-example sampled softmax losses\n",
    "def sampled_loss(labels, logits):\n",
    "    return tf.nn.sampled_softmax_loss(\n",
    "                        weights = w_t,\n",
    "                        biases = b,\n",
    "                        labels = tf.reshape(labels, [-1, 1]),\n",
    "                        inputs = logits,\n",
    "                        num_sampled = 512,\n",
    "                        num_classes = de_vocab_size)\n",
    "\n",
    "# Weighted cross-entropy loss for a sequence of logits\n",
    "loss = tf.contrib.legacy_seq2seq.sequence_loss(outputs, targets, target_weights, softmax_loss_function = sampled_loss)"
   ]
  },
  {
   "cell_type": "code",
   "execution_count": 12,
   "metadata": {},
   "outputs": [],
   "source": [
    "# let's define some helper functions\n",
    "\n",
    "# simple softmax function\n",
    "def softmax(x):\n",
    "    n = np.max(x)\n",
    "    e_x = np.exp(x - n)\n",
    "    return e_x / e_x.sum()\n",
    "\n",
    "# feed data into placeholders\n",
    "def feed_dict(x, y, batch_size = 64):\n",
    "    feed = {}\n",
    "    \n",
    "    idxes = np.random.choice(len(x), size = batch_size, replace = False)\n",
    "    \n",
    "    for i in range(input_seq_len):\n",
    "        feed[encoder_inputs[i].name] = np.array([x[j][i] for j in idxes], dtype = np.int32)\n",
    "        \n",
    "    for i in range(output_seq_len):\n",
    "        feed[decoder_inputs[i].name] = np.array([y[j][i] for j in idxes], dtype = np.int32)\n",
    "        \n",
    "    feed[targets[len(targets)-1].name] = np.full(shape = [batch_size], fill_value = de_word2idx['<pad>'], dtype = np.int32)\n",
    "    \n",
    "    for i in range(output_seq_len-1):\n",
    "        batch_weights = np.ones(batch_size, dtype = np.float32)\n",
    "        target = feed[decoder_inputs[i+1].name]\n",
    "        for j in range(batch_size):\n",
    "            if target[j] == de_word2idx['<pad>']:\n",
    "                batch_weights[j] = 0.0\n",
    "        feed[target_weights[i].name] = batch_weights\n",
    "        \n",
    "    feed[target_weights[output_seq_len-1].name] = np.zeros(batch_size, dtype = np.float32)\n",
    "    \n",
    "    return feed\n",
    "\n",
    "# decode output sequence\n",
    "def decode_output(output_seq):\n",
    "    words = []\n",
    "    for i in range(output_seq_len):\n",
    "        smax = softmax(output_seq[i])\n",
    "        idx = np.argmax(smax)\n",
    "        words.append(de_idx2word[idx])\n",
    "    return words"
   ]
  },
  {
   "cell_type": "code",
   "execution_count": 13,
   "metadata": {},
   "outputs": [],
   "source": [
    "# ops and hyperparameters\n",
    "learning_rate = 0.01\n",
    "batch_size = 64\n",
    "steps = 1000\n",
    "\n",
    "# ops for projecting outputs\n",
    "outputs_proj = [tf.matmul(outputs[i], output_projection[0]) + output_projection[1] for i in range(output_seq_len)]\n",
    "\n",
    "# training op\n",
    "optimizer = tf.train.RMSPropOptimizer(learning_rate).minimize(loss)\n",
    "\n",
    "# init op\n",
    "init = tf.global_variables_initializer()\n",
    "\n",
    "# forward step\n",
    "def forward_step(sess, feed):\n",
    "    output_sequences = sess.run(outputs_proj, feed_dict = feed)\n",
    "    return output_sequences\n",
    "\n",
    "# training step\n",
    "def backward_step(sess, feed):\n",
    "    sess.run(optimizer, feed_dict = feed)"
   ]
  },
  {
   "cell_type": "code",
   "execution_count": 12,
   "metadata": {},
   "outputs": [],
   "source": [
    "# sess=tf.Session()    \n",
    "# #First let's load meta graph and restore weights\n",
    "# saver = tf.train.import_meta_graph('checkpointsSan/-199.meta')\n",
    "# saver.restore(sess,tf.train.latest_checkpoint('checkpointsSan'))"
   ]
  },
  {
   "cell_type": "code",
   "execution_count": null,
   "metadata": {
    "scrolled": true
   },
   "outputs": [
    {
     "name": "stdout",
     "output_type": "stream",
     "text": [
      "------------------TRAINING------------------\n",
      "step: 0, loss: 7.971765041351318\n"
     ]
    }
   ],
   "source": [
    "# let's train the model\n",
    "\n",
    "# we will use this list to plot losses through steps\n",
    "losses = []\n",
    "\n",
    "# save a checkpoint so we can restore the model later \n",
    "# del saver\n",
    "saver = tf.train.Saver()\n",
    "# restore = True\n",
    "\n",
    "print('------------------TRAINING------------------')\n",
    "with tf.Session() as sess:\n",
    "#     if (restore):\n",
    "#         saver.restore(sess, tf.train.latest_checkpoint('checkpointsSan/'))\n",
    "    \n",
    "    sess.run(init)\n",
    "    \n",
    "    t = time.time()\n",
    "    for step in range(steps):\n",
    "        feed = feed_dict(X_train, Y_train)\n",
    "            \n",
    "        backward_step(sess, feed)\n",
    "        \n",
    "        if step % 5 == 4 or step == 0:\n",
    "            loss_value = sess.run(loss, feed_dict = feed)\n",
    "            print('step: {}, loss: {}'.format(step, loss_value))\n",
    "            losses.append(loss_value)\n",
    "        \n",
    "        if step % 20 == 19:\n",
    "            saver.save(sess, 'checkpointsSan2Eng/', global_step=step)\n",
    "            print('Checkpoint is saved')\n",
    "            \n",
    "    print('Training time for {} steps: {}s'.format(steps, time.time() - t))"
   ]
  },
  {
   "cell_type": "code",
   "execution_count": null,
   "metadata": {},
   "outputs": [],
   "source": [
    "tf.restore()"
   ]
  },
  {
   "cell_type": "code",
   "execution_count": 15,
   "metadata": {
    "scrolled": true
   },
   "outputs": [
    {
     "data": {
      "image/png": "[encoded data removed]",
      "text/plain": [
       "<matplotlib.figure.Figure at 0x1c4b765940>"
      ]
     },
     "metadata": {},
     "output_type": "display_data"
    }
   ],
   "source": [
    "# plot losses\n",
    "\n",
    "with plt.style.context('fivethirtyeight'):\n",
    "    plt.plot(losses, linewidth = 1)\n",
    "    plt.xlabel('Steps')\n",
    "    plt.ylabel('Losses')\n",
    "    plt.ylim((-1, 10))\n",
    "\n",
    "plt.show()"
   ]
  },
  {
   "cell_type": "code",
   "execution_count": 21,
   "metadata": {},
   "outputs": [
    {
     "name": "stdout",
     "output_type": "stream",
     "text": [
      "INFO:tensorflow:Restoring parameters from checkpointsSan2/-999\n",
      "1.\n",
      "--------------------------------\n",
      "And Solomon begat Roboam  and Roboam begat Abia  and Abia begat Asa\n",
      "। द्वितीयस्तस्य शपथं रिहबियाम्  आसीत् पुत्र आसा  । । । रवः॥ \\u0964 \\u0926\\u094d\\u0935\\u093f\\u0924\\u0940\\u092f\\u0938\\u094d\\u0924\\u0938\\u094d\\u092f \\u0936\\u092a\\u0925\\u0902 \\u0930\\u093f\\u0939\\u092c\\u093f\\u092f\\u093e\\u092e\\u094d  \\u0906\\u0938\\u0940\\u0924\\u094d \\u092a\\u0941\\u0924\\u094d\\u0930 \\u0906\\u0938\\u093e  \\u0964 \\u0964 \\u0964 \\u0930\\u0935\\u0903\\u0965 \n",
      "--------------------------------\n",
      "2.\n",
      "--------------------------------\n",
      "or if he ask a fish, will he give him a serpent?\n",
      "अनन्तरं परमेश इदं तल्लिखितमेतत्  विरोधिजनाः तल्लिखितमेतत्  श्रेण्यां यन्तु ममार। तेऽविधन् यन्तु ममार। \\u0905\\u0928\\u0928\\u094d\\u0924\\u0930\\u0902 \\u092a\\u0930\\u092e\\u0947\\u0936 \\u0907\\u0926\\u0902 \\u0924\\u0932\\u094d\\u0932\\u093f\\u0916\\u093f\\u0924\\u092e\\u0947\\u0924\\u0924\\u094d  \\u0935\\u093f\\u0930\\u094b\\u0927\\u093f\\u091c\\u0928\\u093e\\u0903 \\u0924\\u0932\\u094d\\u0932\\u093f\\u0916\\u093f\\u0924\\u092e\\u0947\\u0924\\u0924\\u094d  \\u0936\\u094d\\u0930\\u0947\\u0923\\u094d\\u092f\\u093e\\u0902 \\u092f\\u0928\\u094d\\u0924\\u0941 \\u092e\\u092e\\u093e\\u0930\\u0964 \\u0924\\u0947\\u093d\\u0935\\u093f\\u0927\\u0928\\u094d \\u092f\\u0928\\u094d\\u0924\\u0941 \\u092e\\u092e\\u093e\\u0930\\u0964 \n",
      "--------------------------------\n",
      "3.\n",
      "--------------------------------\n",
      "will he give him a serpent?\n",
      "परेशानुग्रहे नामानीमानि  घटनातः पूर्व्वं लिखित्वा तल्लिखितमेतत्  त्रोयानगरे तल्लिखितमेतत्  \\u092a\\u0930\\u0947\\u0936\\u093e\\u0928\\u0941\\u0917\\u094d\\u0930\\u0939\\u0947 \\u0928\\u093e\\u092e\\u093e\\u0928\\u0940\\u092e\\u093e\\u0928\\u093f  \\u0918\\u091f\\u0928\\u093e\\u0924\\u0903 \\u092a\\u0942\\u0930\\u094d\\u0935\\u094d\\u0935\\u0902 \\u0932\\u093f\\u0916\\u093f\\u0924\\u094d\\u0935\\u093e \\u0924\\u0932\\u094d\\u0932\\u093f\\u0916\\u093f\\u0924\\u092e\\u0947\\u0924\\u0924\\u094d  \\u0924\\u094d\\u0930\\u094b\\u092f\\u093e\\u0928\\u0917\\u0930\\u0947 \\u0924\\u0932\\u094d\\u0932\\u093f\\u0916\\u093f\\u0924\\u092e\\u0947\\u0924\\u0924\\u094d  \n",
      "--------------------------------\n",
      "4.\n",
      "--------------------------------\n",
      "I am reading a book\n",
      "बीजवप्ता वाक्यरूपाणि बीजानि प्रचारयितुमेव च। तल्लिखितमेतत्  सः॥ \\u092c\\u0940\\u091c\\u0935\\u092a\\u094d\\u0924\\u093e \\u0935\\u093e\\u0915\\u094d\\u092f\\u0930\\u0942\\u092a\\u093e\\u0923\\u093f \\u092c\\u0940\\u091c\\u093e\\u0928\\u093f \\u092a\\u094d\\u0930\\u091a\\u093e\\u0930\\u092f\\u093f\\u0924\\u0941\\u092e\\u0947\\u0935 \\u091a\\u0964 \\u0924\\u0932\\u094d\\u0932\\u093f\\u0916\\u093f\\u0924\\u092e\\u0947\\u0924\\u0924\\u094d  \\u0938\\u0903\\u0965 \n",
      "--------------------------------\n",
      "5.\n",
      "--------------------------------\n",
      "How are you\n",
      "पश्चात् ते समीपम् आचारेणार्थतस्तेषां आचारेणार्थतस्तेषां प्रत्यक्षेण प्रोच्चैः प्रोचुस्तं सिवदिपुत्रो प्रोचुस्तं सिवदिपुत्रो \\u092a\\u0936\\u094d\\u091a\\u093e\\u0924\\u094d \\u0924\\u0947 \\u0938\\u092e\\u0940\\u092a\\u092e\\u094d \\u0906\\u091a\\u093e\\u0930\\u0947\\u0923\\u093e\\u0930\\u094d\\u0925\\u0924\\u0938\\u094d\\u0924\\u0947\\u0937\\u093e\\u0902 \\u0906\\u091a\\u093e\\u0930\\u0947\\u0923\\u093e\\u0930\\u094d\\u0925\\u0924\\u0938\\u094d\\u0924\\u0947\\u0937\\u093e\\u0902 \\u092a\\u094d\\u0930\\u0924\\u094d\\u092f\\u0915\\u094d\\u0937\\u0947\\u0923 \\u092a\\u094d\\u0930\\u094b\\u091a\\u094d\\u091a\\u0948\\u0903 \\u092a\\u094d\\u0930\\u094b\\u091a\\u0941\\u0938\\u094d\\u0924\\u0902 \\u0938\\u093f\\u0935\\u0926\\u093f\\u092a\\u0941\\u0924\\u094d\\u0930\\u094b \\u092a\\u094d\\u0930\\u094b\\u091a\\u0941\\u0938\\u094d\\u0924\\u0902 \\u0938\\u093f\\u0935\\u0926\\u093f\\u092a\\u0941\\u0924\\u094d\\u0930\\u094b \n",
      "--------------------------------\n",
      "6.\n",
      "--------------------------------\n",
      "I am good\n",
      "यान्येतानि नामानीमानि द्वादशभिः पितरमपि ऋतीयते। पितरमपि ऋतीयते। सः॥ तानि पितरमपि निर्म्मितवान्। प्राप्तोसि  \\u092f\\u093e\\u0928\\u094d\\u092f\\u0947\\u0924\\u093e\\u0928\\u093f \\u0928\\u093e\\u092e\\u093e\\u0928\\u0940\\u092e\\u093e\\u0928\\u093f \\u0926\\u094d\\u0935\\u093e\\u0926\\u0936\\u092d\\u093f\\u0903 \\u092a\\u093f\\u0924\\u0930\\u092e\\u092a\\u093f \\u090b\\u0924\\u0940\\u092f\\u0924\\u0947\\u0964 \\u092a\\u093f\\u0924\\u0930\\u092e\\u092a\\u093f \\u090b\\u0924\\u0940\\u092f\\u0924\\u0947\\u0964 \\u0938\\u0903\\u0965 \\u0924\\u093e\\u0928\\u093f \\u092a\\u093f\\u0924\\u0930\\u092e\\u092a\\u093f \\u0928\\u093f\\u0930\\u094d\\u092e\\u094d\\u092e\\u093f\\u0924\\u0935\\u093e\\u0928\\u094d\\u0964 \\u092a\\u094d\\u0930\\u093e\\u092a\\u094d\\u0924\\u094b\\u0938\\u093f  \n",
      "--------------------------------\n",
      "7.\n",
      "--------------------------------\n",
      "Do you speak English\n",
      "यान्येतानि हठादागत्य यथा सन्तो आचारेणार्थतस्तेषां प्रत्यक्षेण जागरितास्तिष्ठत। जागरितास्तिष्ठत। जागरितास्तिष्ठत। \\u092f\\u093e\\u0928\\u094d\\u092f\\u0947\\u0924\\u093e\\u0928\\u093f \\u0939\\u0920\\u093e\\u0926\\u093e\\u0917\\u0924\\u094d\\u092f \\u092f\\u0925\\u093e \\u0938\\u0928\\u094d\\u0924\\u094b \\u0906\\u091a\\u093e\\u0930\\u0947\\u0923\\u093e\\u0930\\u094d\\u0925\\u0924\\u0938\\u094d\\u0924\\u0947\\u0937\\u093e\\u0902 \\u092a\\u094d\\u0930\\u0924\\u094d\\u092f\\u0915\\u094d\\u0937\\u0947\\u0923 \\u091c\\u093e\\u0917\\u0930\\u093f\\u0924\\u093e\\u0938\\u094d\\u0924\\u093f\\u0937\\u094d\\u0920\\u0924\\u0964 \\u091c\\u093e\\u0917\\u0930\\u093f\\u0924\\u093e\\u0938\\u094d\\u0924\\u093f\\u0937\\u094d\\u0920\\u0924\\u0964 \\u091c\\u093e\\u0917\\u0930\\u093f\\u0924\\u093e\\u0938\\u094d\\u0924\\u093f\\u0937\\u094d\\u0920\\u0924\\u0964 \n",
      "--------------------------------\n",
      "8.\n",
      "--------------------------------\n",
      "What time is it\n",
      "यान्येतानि स पत्रं लिखित्वा तल्लिखितमेतत्  तल्लिखितमेतत्  \\u092f\\u093e\\u0928\\u094d\\u092f\\u0947\\u0924\\u093e\\u0928\\u093f \\u0938 \\u092a\\u0924\\u094d\\u0930\\u0902 \\u0932\\u093f\\u0916\\u093f\\u0924\\u094d\\u0935\\u093e \\u0924\\u0932\\u094d\\u0932\\u093f\\u0916\\u093f\\u0924\\u092e\\u0947\\u0924\\u0924\\u094d  \\u0924\\u0932\\u094d\\u0932\\u093f\\u0916\\u093f\\u0924\\u092e\\u0947\\u0924\\u0924\\u094d  \n",
      "--------------------------------\n",
      "9.\n",
      "--------------------------------\n",
      "Hi\n",
      "यान्येतानि नामानीमानि द्वादशभिः भ्राम्यत। जागरितास्तिष्ठत। जागरितास्तिष्ठत। जागरितास्तिष्ठत। जागरितास्तिष्ठत। जागरितास्तिष्ठत। \\u092f\\u093e\\u0928\\u094d\\u092f\\u0947\\u0924\\u093e\\u0928\\u093f \\u0928\\u093e\\u092e\\u093e\\u0928\\u0940\\u092e\\u093e\\u0928\\u093f \\u0926\\u094d\\u0935\\u093e\\u0926\\u0936\\u092d\\u093f\\u0903 \\u092d\\u094d\\u0930\\u093e\\u092e\\u094d\\u092f\\u0924\\u0964 \\u091c\\u093e\\u0917\\u0930\\u093f\\u0924\\u093e\\u0938\\u094d\\u0924\\u093f\\u0937\\u094d\\u0920\\u0924\\u0964 \\u091c\\u093e\\u0917\\u0930\\u093f\\u0924\\u093e\\u0938\\u094d\\u0924\\u093f\\u0937\\u094d\\u0920\\u0924\\u0964 \\u091c\\u093e\\u0917\\u0930\\u093f\\u0924\\u093e\\u0938\\u094d\\u0924\\u093f\\u0937\\u094d\\u0920\\u0924\\u0964 \\u091c\\u093e\\u0917\\u0930\\u093f\\u0924\\u093e\\u0938\\u094d\\u0924\\u093f\\u0937\\u094d\\u0920\\u0924\\u0964 \\u091c\\u093e\\u0917\\u0930\\u093f\\u0924\\u093e\\u0938\\u094d\\u0924\\u093f\\u0937\\u094d\\u0920\\u0924\\u0964 \n",
      "--------------------------------\n",
      "10.\n",
      "--------------------------------\n",
      "Goodbye\n",
      "यान्येतानि नामानीमानि द्वादशभिः भ्राम्यत। जागरितास्तिष्ठत। जागरितास्तिष्ठत। जागरितास्तिष्ठत। जागरितास्तिष्ठत। जागरितास्तिष्ठत। \\u092f\\u093e\\u0928\\u094d\\u092f\\u0947\\u0924\\u093e\\u0928\\u093f \\u0928\\u093e\\u092e\\u093e\\u0928\\u0940\\u092e\\u093e\\u0928\\u093f \\u0926\\u094d\\u0935\\u093e\\u0926\\u0936\\u092d\\u093f\\u0903 \\u092d\\u094d\\u0930\\u093e\\u092e\\u094d\\u092f\\u0924\\u0964 \\u091c\\u093e\\u0917\\u0930\\u093f\\u0924\\u093e\\u0938\\u094d\\u0924\\u093f\\u0937\\u094d\\u0920\\u0924\\u0964 \\u091c\\u093e\\u0917\\u0930\\u093f\\u0924\\u093e\\u0938\\u094d\\u0924\\u093f\\u0937\\u094d\\u0920\\u0924\\u0964 \\u091c\\u093e\\u0917\\u0930\\u093f\\u0924\\u093e\\u0938\\u094d\\u0924\\u093f\\u0937\\u094d\\u0920\\u0924\\u0964 \\u091c\\u093e\\u0917\\u0930\\u093f\\u0924\\u093e\\u0938\\u094d\\u0924\\u093f\\u0937\\u094d\\u0920\\u0924\\u0964 \\u091c\\u093e\\u0917\\u0930\\u093f\\u0924\\u093e\\u0938\\u094d\\u0924\\u093f\\u0937\\u094d\\u0920\\u0924\\u0964 \n",
      "--------------------------------\n",
      "11.\n",
      "--------------------------------\n",
      "Yes\n",
      "यान्येतानि तं ते प्रोचुस्तं समीपम् आचारेणार्थतस्तेषां आचारेणार्थतस्तेषां आचारेणार्थतस्तेषां आचारेणार्थतस्तेषां आचारेणार्थतस्तेषां आचारेणार्थतस्तेषां \\u092f\\u093e\\u0928\\u094d\\u092f\\u0947\\u0924\\u093e\\u0928\\u093f \\u0924\\u0902 \\u0924\\u0947 \\u092a\\u094d\\u0930\\u094b\\u091a\\u0941\\u0938\\u094d\\u0924\\u0902 \\u0938\\u092e\\u0940\\u092a\\u092e\\u094d \\u0906\\u091a\\u093e\\u0930\\u0947\\u0923\\u093e\\u0930\\u094d\\u0925\\u0924\\u0938\\u094d\\u0924\\u0947\\u0937\\u093e\\u0902 \\u0906\\u091a\\u093e\\u0930\\u0947\\u0923\\u093e\\u0930\\u094d\\u0925\\u0924\\u0938\\u094d\\u0924\\u0947\\u0937\\u093e\\u0902 \\u0906\\u091a\\u093e\\u0930\\u0947\\u0923\\u093e\\u0930\\u094d\\u0925\\u0924\\u0938\\u094d\\u0924\\u0947\\u0937\\u093e\\u0902 \\u0906\\u091a\\u093e\\u0930\\u0947\\u0923\\u093e\\u0930\\u094d\\u0925\\u0924\\u0938\\u094d\\u0924\\u0947\\u0937\\u093e\\u0902 \\u0906\\u091a\\u093e\\u0930\\u0947\\u0923\\u093e\\u0930\\u094d\\u0925\\u0924\\u0938\\u094d\\u0924\\u0947\\u0937\\u093e\\u0902 \\u0906\\u091a\\u093e\\u0930\\u0947\\u0923\\u093e\\u0930\\u094d\\u0925\\u0924\\u0938\\u094d\\u0924\\u0947\\u0937\\u093e\\u0902 \n",
      "--------------------------------\n",
      "12.\n",
      "--------------------------------\n",
      "No\n",
      "यान्येतानि नामानीमानि द्वादशभिः समीपम् नरपतिरुपस्थाय वपति  नरपतिरुपस्थाय परिचिनोति वेधय। \\u092f\\u093e\\u0928\\u094d\\u092f\\u0947\\u0924\\u093e\\u0928\\u093f \\u0928\\u093e\\u092e\\u093e\\u0928\\u0940\\u092e\\u093e\\u0928\\u093f \\u0926\\u094d\\u0935\\u093e\\u0926\\u0936\\u092d\\u093f\\u0903 \\u0938\\u092e\\u0940\\u092a\\u092e\\u094d \\u0928\\u0930\\u092a\\u0924\\u093f\\u0930\\u0941\\u092a\\u0938\\u094d\\u0925\\u093e\\u092f \\u0935\\u092a\\u0924\\u093f  \\u0928\\u0930\\u092a\\u0924\\u093f\\u0930\\u0941\\u092a\\u0938\\u094d\\u0925\\u093e\\u092f \\u092a\\u0930\\u093f\\u091a\\u093f\\u0928\\u094b\\u0924\\u093f \\u0935\\u0947\\u0927\\u092f\\u0964 \n",
      "--------------------------------\n"
     ]
    }
   ],
   "source": [
    "# let's test the model\n",
    "\n",
    "with tf.Graph().as_default():\n",
    "    \n",
    "    # placeholders\n",
    "    encoder_inputs = [tf.placeholder(dtype = tf.int32, shape = [None], name = 'encoder{}'.format(i)) for i in range(input_seq_len)]\n",
    "    decoder_inputs = [tf.placeholder(dtype = tf.int32, shape = [None], name = 'decoder{}'.format(i)) for i in range(output_seq_len)]\n",
    "\n",
    "    # output projection\n",
    "    size = 512\n",
    "    w_t = tf.get_variable('proj_w', [de_vocab_size, size], tf.float32)\n",
    "    b = tf.get_variable('proj_b', [de_vocab_size], tf.float32)\n",
    "    w = tf.transpose(w_t)\n",
    "    output_projection = (w, b)\n",
    "    \n",
    "    # change the model so that output at time t can be fed as input at time t+1\n",
    "    outputs, states = tf.contrib.legacy_seq2seq.embedding_attention_seq2seq(\n",
    "                                                encoder_inputs,\n",
    "                                                decoder_inputs,\n",
    "                                                tf.contrib.rnn.BasicLSTMCell(size),\n",
    "                                                num_encoder_symbols = en_vocab_size,\n",
    "                                                num_decoder_symbols = de_vocab_size,\n",
    "                                                embedding_size = 100,\n",
    "                                                feed_previous = True, # <-----this is changed----->\n",
    "                                                output_projection = output_projection,\n",
    "                                                dtype = tf.float32)\n",
    "    \n",
    "    # ops for projecting outputs\n",
    "    outputs_proj = [tf.matmul(outputs[i], output_projection[0]) + output_projection[1] for i in range(output_seq_len)]\n",
    "\n",
    "    # let's translate these sentences     \n",
    "    en_sentences = [\"And Solomon begat Roboam  and Roboam begat Abia  and Abia begat Asa\", \"or if he ask a fish, will he give him a serpent?\", \"will he give him a serpent?\", 'I am reading a book',\\\n",
    "                    'How are you', 'I am good', 'Do you speak English', 'What time is it', 'Hi', 'Goodbye', 'Yes', 'No']\n",
    "    en_sentences_encoded = [[en_word2idx.get(word, 0) for word in en_sentence.split()] for en_sentence in en_sentences]\n",
    "    \n",
    "    # padding to fit encoder input\n",
    "    for i in range(len(en_sentences_encoded)):\n",
    "        en_sentences_encoded[i] += (15 - len(en_sentences_encoded[i])) * [en_word2idx['<pad>']]\n",
    "    \n",
    "    # restore all variables - use the last checkpoint saved\n",
    "    saver = tf.train.Saver()\n",
    "    path = tf.train.latest_checkpoint('checkpointsSan2')\n",
    "    \n",
    "    with tf.Session() as sess:\n",
    "        # restore\n",
    "        saver.restore(sess, path)\n",
    "        \n",
    "        # feed data into placeholders\n",
    "        feed = {}\n",
    "        for i in range(input_seq_len):\n",
    "            feed[encoder_inputs[i].name] = np.array([en_sentences_encoded[j][i] for j in range(len(en_sentences_encoded))], dtype = np.int32)\n",
    "            \n",
    "        feed[decoder_inputs[0].name] = np.array([de_word2idx['<go>']] * len(en_sentences_encoded), dtype = np.int32)\n",
    "        \n",
    "        # translate\n",
    "        output_sequences = sess.run(outputs_proj, feed_dict = feed)\n",
    "        \n",
    "        # decode seq.\n",
    "        for i in range(len(en_sentences_encoded)):\n",
    "            print('{}.\\n--------------------------------'.format(i+1))\n",
    "            ouput_seq = [output_sequences[j][i] for j in range(output_seq_len)]\n",
    "            #decode output sequence\n",
    "            words = decode_output(ouput_seq)\n",
    "        \n",
    "            print(en_sentences[i])\n",
    "            for i in range(len(words)):\n",
    "                if words[i] not in ['<eos>', '<pad>', '<go>']:\n",
    "                    print(convert_sanskrit(words[i]), end = \" \")\n",
    "            for i in range(len(words)):\n",
    "                if words[i] not in ['<eos>', '<pad>', '<go>']:\n",
    "                    print(words[i], end = \" \")\n",
    "            \n",
    "            print('\\n--------------------------------')"
   ]
  },
  {
   "cell_type": "markdown",
   "metadata": {},
   "source": [
    "# This model can be improved by using more training steps, better dataset or even with better selection of hyperparameters "
   ]
  },
  {
   "cell_type": "code",
   "execution_count": null,
   "metadata": {
    "collapsed": true
   },
   "outputs": [],
   "source": []
  }
 ],
 "metadata": {
  "kernelspec": {
   "display_name": "Python 3",
   "language": "python",
   "name": "python3"
  },
  "language_info": {
   "codemirror_mode": {
    "name": "ipython",
    "version": 3
   },
   "file_extension": ".py",
   "mimetype": "text/x-python",
   "name": "python",
   "nbconvert_exporter": "python",
   "pygments_lexer": "ipython3",
   "version": "3.6.3"
  }
 },
 "nbformat": 4,
 "nbformat_minor": 2
}
