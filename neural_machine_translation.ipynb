{
 "cells": [
  {
   "cell_type": "code",
   "execution_count": 1,
   "metadata": {},
   "outputs": [
    {
     "name": "stderr",
     "output_type": "stream",
     "text": [
      "C:\\ProgramData\\Anaconda3\\lib\\site-packages\\h5py\\__init__.py:36: FutureWarning: Conversion of the second argument of issubdtype from `float` to `np.floating` is deprecated. In future, it will be treated as `np.float64 == np.dtype(float).type`.\n",
      "  from ._conv import register_converters as _register_converters\n"
     ]
    }
   ],
   "source": [
    "# dependencies\n",
    "import tensorflow as tf\n",
    "import numpy as np\n",
    "from sklearn.model_selection import train_test_split\n",
    "import time\n",
    "import pickle\n",
    "import data_utils\n",
    "import matplotlib.pyplot as plt\n",
    "import re"
   ]
  },
  {
   "cell_type": "code",
   "execution_count": 4,
   "metadata": {},
   "outputs": [],
   "source": [
    "from collections import Counter\n",
    "\n",
    "def read_sentences(file_path):\n",
    "\tsentences = []\n",
    "\n",
    "\twith open(file_path, 'r') as reader:\n",
    "\t\tfor s in reader:\n",
    "\t\t\tsentences.append(s.strip())\n",
    "\n",
    "\treturn sentences\n",
    "\n",
    "def iteritems(dic):\n",
    "    return iter([(key, dic[key]) for key in dic])\n",
    "\n",
    "def create_dataset(en_sentences, de_sentences):\n",
    "\n",
    "\ten_vocab_dict = Counter(word.strip(',.\" ;:)(][?!') for sentence in en_sentences for word in sentence.split())\n",
    "\tde_vocab_dict = Counter(word.strip(',.\" ;:)(][?!') for sentence in de_sentences for word in sentence.split())\n",
    "\n",
    "\ten_vocab = list(map(lambda x: x[0], sorted(en_vocab_dict.items(), key = lambda x: -x[1])))\n",
    "\tde_vocab = list(map(lambda x: x[0], sorted(de_vocab_dict.items(), key = lambda x: -x[1])))\n",
    "\n",
    "\ten_vocab = en_vocab[:20000]\n",
    "\tde_vocab = de_vocab[:30000]\n",
    "\n",
    "\tstart_idx = 2\n",
    "\ten_word2idx = dict([(word, idx+start_idx) for idx, word in enumerate(en_vocab)])\n",
    "\ten_word2idx['<ukn>'] = 0\n",
    "\ten_word2idx['<pad>'] = 1\n",
    "\n",
    "\ten_idx2word = dict([(idx, word) for word, idx in iteritems(en_word2idx)])\n",
    "\n",
    "\n",
    "\tstart_idx = 4\n",
    "\tde_word2idx = dict([(word, idx+start_idx) for idx, word in enumerate(de_vocab)])\n",
    "\tde_word2idx['<ukn>'] = 0\n",
    "\tde_word2idx['<go>']  = 1\n",
    "\tde_word2idx['<eos>'] = 2\n",
    "\tde_word2idx['<pad>'] = 3\n",
    "\n",
    "\tde_idx2word = dict([(idx, word) for word, idx in iteritems(de_word2idx)])\n",
    "\n",
    "\tx = [[en_word2idx.get(word.strip(',.\" ;:)(][?!'), 0) for word in sentence.split()] for sentence in en_sentences]\n",
    "\ty = [[de_word2idx.get(word.strip(',.\" ;:)(][?!'), 0) for word in sentence.split()] for sentence in de_sentences]\n",
    "\n",
    "\tX = []\n",
    "\tY = []\n",
    "\tfor i in range(len(x)):\n",
    "\t\tn1 = len(x[i])\n",
    "\t\tn2 = len(y[i])\n",
    "\t\tn = n1 if n1 < n2 else n2 \n",
    "\t\tif abs(n1 - n2) <= 0.3 * n:\n",
    "\t\t\tif n1 <= 15 and n2 <= 15:\n",
    "\t\t\t\tX.append(x[i])\n",
    "\t\t\t\tY.append(y[i])\n",
    "\n",
    "\treturn X, Y, en_word2idx, en_idx2word, en_vocab, de_word2idx, de_idx2word, de_vocab\n",
    "\n",
    "def save_dataset(file_path, obj):\n",
    "\twith open(file_path, 'wb') as f:\n",
    "\t\tpickle.dump(obj, f, -1)\n",
    "\n",
    "def main():\n",
    "    en_sentences = read_sentences('./Data/bible.en')\n",
    "    de_sentences = read_sentences('./Data/bible.san')\n",
    "\n",
    "    save_dataset('./Data/bible.pkl', create_dataset(en_sentences, de_sentences))\n",
    "    save_dataset('./Data/bible2.pkl', create_dataset(de_sentences, en_sentences))"
   ]
  },
  {
   "cell_type": "code",
   "execution_count": 5,
   "metadata": {},
   "outputs": [],
   "source": [
    "main()"
   ]
  },
  {
   "cell_type": "code",
   "execution_count": 6,
   "metadata": {},
   "outputs": [],
   "source": [
    "def convert_sanskrit(uni):\n",
    "    a = bytearray(uni, encoding = \"utf-8\").decode('unicode-escape')\n",
    "    return a"
   ]
  },
  {
   "cell_type": "code",
   "execution_count": 8,
   "metadata": {},
   "outputs": [],
   "source": [
    "# read dataset\n",
    "def read_dataset(file_path):\n",
    "    with open(file_path, 'rb') as f:\n",
    "        return pickle.load(f,encoding=\"utf_8\")\n",
    "\n",
    "X, Y, en_word2idx, en_idx2word, en_vocab, de_word2idx, de_idx2word, de_vocab = read_dataset('./Data/bible2.pkl')"
   ]
  },
  {
   "cell_type": "code",
   "execution_count": 9,
   "metadata": {},
   "outputs": [
    {
     "name": "stdout",
     "output_type": "stream",
     "text": [
      "Sentence in Sanskrit - encoded: [6411]\n",
      "Sentence in English - encoded: [3443]\n",
      "Decoded:\n",
      "------------------------\n",
      "तस्य पुत्रो रिहबियाम्  तस्य पुत्रोऽबियः  तस्य पुत्र आसा  । \n",
      "\n",
      "And Solomon begat Roboam  and Roboam begat Abia  and Abia begat Asa  "
     ]
    }
   ],
   "source": [
    "#inspecting data\n",
    "print('Sentence in Sanskrit - encoded:', X[0])\n",
    "print('Sentence in English - encoded:', Y[0])\n",
    "print('Decoded:\\n------------------------')\n",
    "\n",
    "for i in range(len(X[1])):\n",
    "    print(convert_sanskrit(en_idx2word[X[1][i]]), end = \" \")\n",
    "    \n",
    "print('\\n')\n",
    "\n",
    "for i in range(len(Y[1])):\n",
    "    print(de_idx2word[Y[1][i]], end = \" \")"
   ]
  },
  {
   "cell_type": "code",
   "execution_count": 10,
   "metadata": {},
   "outputs": [],
   "source": [
    "# data processing\n",
    "\n",
    "# data padding\n",
    "def data_padding(x, y, length = 10):\n",
    "    for i in range(len(x)):\n",
    "        x[i] = x[i] + (length - len(x[i])) * [en_word2idx['<pad>']]\n",
    "        y[i] = [de_word2idx['<go>']] + y[i] + [de_word2idx['<eos>']] + (length-len(y[i])) * [de_word2idx['<pad>']]\n",
    "\n",
    "data_padding(X, Y)\n",
    "\n",
    "# data splitting\n",
    "X_train,  X_test, Y_train, Y_test = train_test_split(X, Y, test_size = 0.1)\n",
    "\n",
    "del X\n",
    "del Y"
   ]
  },
  {
   "cell_type": "code",
   "execution_count": 11,
   "metadata": {},
   "outputs": [],
   "source": [
    "# build a model\n",
    "\n",
    "input_seq_len = 10\n",
    "output_seq_len = 12\n",
    "en_vocab_size = len(en_vocab) + 2 # + <pad>, <ukn>\n",
    "de_vocab_size = len(de_vocab) + 4 # + <pad>, <ukn>, <eos>, <go>\n",
    "\n",
    "# placeholders\n",
    "encoder_inputs = [tf.placeholder(dtype = tf.int32, shape = [None], name = 'encoder{}'.format(i)) for i in range(input_seq_len)]\n",
    "decoder_inputs = [tf.placeholder(dtype = tf.int32, shape = [None], name = 'decoder{}'.format(i)) for i in range(output_seq_len)]\n",
    "\n",
    "targets = [decoder_inputs[i+1] for i in range(output_seq_len-1)]\n",
    "# add one more target\n",
    "targets.append(tf.placeholder(dtype = tf.int32, shape = [None], name = 'last_target'))\n",
    "target_weights = [tf.placeholder(dtype = tf.float32, shape = [None], name = 'target_w{}'.format(i)) for i in range(output_seq_len)]\n",
    "\n",
    "# output projection\n",
    "size = 512\n",
    "w_t = tf.get_variable('proj_w', [de_vocab_size, size], tf.float32)\n",
    "b = tf.get_variable('proj_b', [de_vocab_size], tf.float32)\n",
    "w = tf.transpose(w_t)\n",
    "output_projection = (w, b)\n",
    "\n",
    "outputs, states = tf.contrib.legacy_seq2seq.embedding_attention_seq2seq(\n",
    "                                            encoder_inputs,\n",
    "                                            decoder_inputs,\n",
    "                                            tf.contrib.rnn.BasicLSTMCell(size),\n",
    "                                            num_encoder_symbols = en_vocab_size,\n",
    "                                            num_decoder_symbols = de_vocab_size,\n",
    "                                            embedding_size = 100,\n",
    "                                            feed_previous = False,\n",
    "                                            output_projection = output_projection,\n",
    "                                            dtype = tf.float32)"
   ]
  },
  {
   "cell_type": "code",
   "execution_count": 12,
   "metadata": {},
   "outputs": [
    {
     "name": "stdout",
     "output_type": "stream",
     "text": [
      "WARNING:tensorflow:From C:\\ProgramData\\Anaconda3\\lib\\site-packages\\tensorflow\\python\\ops\\nn_impl.py:1344: softmax_cross_entropy_with_logits (from tensorflow.python.ops.nn_ops) is deprecated and will be removed in a future version.\n",
      "Instructions for updating:\n",
      "\n",
      "Future major versions of TensorFlow will allow gradients to flow\n",
      "into the labels input on backprop by default.\n",
      "\n",
      "See @{tf.nn.softmax_cross_entropy_with_logits_v2}.\n",
      "\n"
     ]
    }
   ],
   "source": [
    "# define our loss function\n",
    "\n",
    "# sampled softmax loss - returns: A batch_size 1-D tensor of per-example sampled softmax losses\n",
    "def sampled_loss(labels, logits):\n",
    "    return tf.nn.sampled_softmax_loss(\n",
    "                        weights = w_t,\n",
    "                        biases = b,\n",
    "                        labels = tf.reshape(labels, [-1, 1]),\n",
    "                        inputs = logits,\n",
    "                        num_sampled = 512,\n",
    "                        num_classes = de_vocab_size)\n",
    "\n",
    "# Weighted cross-entropy loss for a sequence of logits\n",
    "loss = tf.contrib.legacy_seq2seq.sequence_loss(outputs, targets, target_weights, softmax_loss_function = sampled_loss)"
   ]
  },
  {
   "cell_type": "code",
   "execution_count": 13,
   "metadata": {},
   "outputs": [],
   "source": [
    "# let's define some helper functions\n",
    "\n",
    "# simple softmax function\n",
    "def softmax(x):\n",
    "    n = np.max(x)\n",
    "    e_x = np.exp(x - n)\n",
    "    return e_x / e_x.sum()\n",
    "\n",
    "# feed data into placeholders\n",
    "def feed_dict(x, y, batch_size = 64):\n",
    "    feed = {}\n",
    "    \n",
    "    idxes = np.random.choice(len(x), size = batch_size, replace = False)\n",
    "    \n",
    "    for i in range(input_seq_len):\n",
    "        feed[encoder_inputs[i].name] = np.array([x[j][i] for j in idxes], dtype = np.int32)\n",
    "        \n",
    "    for i in range(output_seq_len):\n",
    "        feed[decoder_inputs[i].name] = np.array([y[j][i] for j in idxes], dtype = np.int32)\n",
    "        \n",
    "    feed[targets[len(targets)-1].name] = np.full(shape = [batch_size], fill_value = de_word2idx['<pad>'], dtype = np.int32)\n",
    "    \n",
    "    for i in range(output_seq_len-1):\n",
    "        batch_weights = np.ones(batch_size, dtype = np.float32)\n",
    "        target = feed[decoder_inputs[i+1].name]\n",
    "        for j in range(batch_size):\n",
    "            if target[j] == de_word2idx['<pad>']:\n",
    "                batch_weights[j] = 0.0\n",
    "        feed[target_weights[i].name] = batch_weights\n",
    "        \n",
    "    feed[target_weights[output_seq_len-1].name] = np.zeros(batch_size, dtype = np.float32)\n",
    "    \n",
    "    return feed\n",
    "\n",
    "# decode output sequence\n",
    "def decode_output(output_seq):\n",
    "    words = []\n",
    "    for i in range(output_seq_len):\n",
    "        smax = softmax(output_seq[i])\n",
    "        idx = np.argmax(smax)\n",
    "        words.append(de_idx2word[idx])\n",
    "    return words"
   ]
  },
  {
   "cell_type": "code",
   "execution_count": 14,
   "metadata": {},
   "outputs": [],
   "source": [
    "# ops and hyperparameters\n",
    "learning_rate = 0.01\n",
    "batch_size = 64\n",
    "steps = 200\n",
    "\n",
    "# ops for projecting outputs\n",
    "outputs_proj = [tf.matmul(outputs[i], output_projection[0]) + output_projection[1] for i in range(output_seq_len)]\n",
    "\n",
    "# training op\n",
    "optimizer = tf.train.RMSPropOptimizer(learning_rate).minimize(loss)\n",
    "\n",
    "# init op\n",
    "init = tf.global_variables_initializer()\n",
    "\n",
    "# forward step\n",
    "def forward_step(sess, feed):\n",
    "    output_sequences = sess.run(outputs_proj, feed_dict = feed)\n",
    "    return output_sequences\n",
    "\n",
    "# training step\n",
    "def backward_step(sess, feed):\n",
    "    sess.run(optimizer, feed_dict = feed)"
   ]
  },
  {
   "cell_type": "code",
   "execution_count": 15,
   "metadata": {},
   "outputs": [],
   "source": [
    "# we will use this list to plot losses through steps\n",
    "losses = []"
   ]
  },
  {
   "cell_type": "code",
   "execution_count": 20,
   "metadata": {
    "scrolled": true
   },
   "outputs": [
    {
     "name": "stdout",
     "output_type": "stream",
     "text": [
      "------------------TRAINING------------------\n",
      "Restoring\n",
      "INFO:tensorflow:Restoring parameters from ./checkpoints430/-219\n",
      "Running from step 220\n",
      "step: 224, loss: 0.000778620655182749\n",
      "step: 229, loss: 0.06754908710718155\n",
      "step: 234, loss: 0.7427664995193481\n",
      "step: 239, loss: 0.029178010299801826\n",
      "Checkpoint is saved\n",
      "step: 244, loss: 0.002341830637305975\n",
      "step: 249, loss: 0.004045705311000347\n",
      "step: 254, loss: 0.001612894469872117\n",
      "step: 259, loss: 0.0022631173487752676\n",
      "Checkpoint is saved\n",
      "step: 264, loss: 0.1913626492023468\n",
      "step: 269, loss: 1.1046555042266846\n",
      "step: 274, loss: 0.021367942914366722\n"
     ]
    },
    {
     "ename": "KeyboardInterrupt",
     "evalue": "",
     "output_type": "error",
     "traceback": [
      "\u001b[1;31m---------------------------------------------------------------------------\u001b[0m",
      "\u001b[1;31mKeyboardInterrupt\u001b[0m                         Traceback (most recent call last)",
      "\u001b[1;32m<ipython-input-20-0f7e038f4698>\u001b[0m in \u001b[0;36m<module>\u001b[1;34m()\u001b[0m\n\u001b[0;32m     26\u001b[0m         \u001b[0mfeed\u001b[0m \u001b[1;33m=\u001b[0m \u001b[0mfeed_dict\u001b[0m\u001b[1;33m(\u001b[0m\u001b[0mX_train\u001b[0m\u001b[1;33m,\u001b[0m \u001b[0mY_train\u001b[0m\u001b[1;33m)\u001b[0m\u001b[1;33m\u001b[0m\u001b[0m\n\u001b[0;32m     27\u001b[0m \u001b[1;33m\u001b[0m\u001b[0m\n\u001b[1;32m---> 28\u001b[1;33m         \u001b[0mbackward_step\u001b[0m\u001b[1;33m(\u001b[0m\u001b[0msess\u001b[0m\u001b[1;33m,\u001b[0m \u001b[0mfeed\u001b[0m\u001b[1;33m)\u001b[0m\u001b[1;33m\u001b[0m\u001b[0m\n\u001b[0m\u001b[0;32m     29\u001b[0m \u001b[1;33m\u001b[0m\u001b[0m\n\u001b[0;32m     30\u001b[0m         \u001b[1;32mif\u001b[0m \u001b[0mstep\u001b[0m \u001b[1;33m%\u001b[0m \u001b[1;36m5\u001b[0m \u001b[1;33m==\u001b[0m \u001b[1;36m4\u001b[0m \u001b[1;32mor\u001b[0m \u001b[0mstep\u001b[0m \u001b[1;33m==\u001b[0m \u001b[1;36m0\u001b[0m\u001b[1;33m:\u001b[0m\u001b[1;33m\u001b[0m\u001b[0m\n",
      "\u001b[1;32m<ipython-input-14-b47ad7b82838>\u001b[0m in \u001b[0;36mbackward_step\u001b[1;34m(sess, feed)\u001b[0m\n\u001b[0;32m     20\u001b[0m \u001b[1;31m# training step\u001b[0m\u001b[1;33m\u001b[0m\u001b[1;33m\u001b[0m\u001b[0m\n\u001b[0;32m     21\u001b[0m \u001b[1;32mdef\u001b[0m \u001b[0mbackward_step\u001b[0m\u001b[1;33m(\u001b[0m\u001b[0msess\u001b[0m\u001b[1;33m,\u001b[0m \u001b[0mfeed\u001b[0m\u001b[1;33m)\u001b[0m\u001b[1;33m:\u001b[0m\u001b[1;33m\u001b[0m\u001b[0m\n\u001b[1;32m---> 22\u001b[1;33m     \u001b[0msess\u001b[0m\u001b[1;33m.\u001b[0m\u001b[0mrun\u001b[0m\u001b[1;33m(\u001b[0m\u001b[0moptimizer\u001b[0m\u001b[1;33m,\u001b[0m \u001b[0mfeed_dict\u001b[0m \u001b[1;33m=\u001b[0m \u001b[0mfeed\u001b[0m\u001b[1;33m)\u001b[0m\u001b[1;33m\u001b[0m\u001b[0m\n\u001b[0m",
      "\u001b[1;32mC:\\ProgramData\\Anaconda3\\lib\\site-packages\\tensorflow\\python\\client\\session.py\u001b[0m in \u001b[0;36mrun\u001b[1;34m(self, fetches, feed_dict, options, run_metadata)\u001b[0m\n\u001b[0;32m    898\u001b[0m     \u001b[1;32mtry\u001b[0m\u001b[1;33m:\u001b[0m\u001b[1;33m\u001b[0m\u001b[0m\n\u001b[0;32m    899\u001b[0m       result = self._run(None, fetches, feed_dict, options_ptr,\n\u001b[1;32m--> 900\u001b[1;33m                          run_metadata_ptr)\n\u001b[0m\u001b[0;32m    901\u001b[0m       \u001b[1;32mif\u001b[0m \u001b[0mrun_metadata\u001b[0m\u001b[1;33m:\u001b[0m\u001b[1;33m\u001b[0m\u001b[0m\n\u001b[0;32m    902\u001b[0m         \u001b[0mproto_data\u001b[0m \u001b[1;33m=\u001b[0m \u001b[0mtf_session\u001b[0m\u001b[1;33m.\u001b[0m\u001b[0mTF_GetBuffer\u001b[0m\u001b[1;33m(\u001b[0m\u001b[0mrun_metadata_ptr\u001b[0m\u001b[1;33m)\u001b[0m\u001b[1;33m\u001b[0m\u001b[0m\n",
      "\u001b[1;32mC:\\ProgramData\\Anaconda3\\lib\\site-packages\\tensorflow\\python\\client\\session.py\u001b[0m in \u001b[0;36m_run\u001b[1;34m(self, handle, fetches, feed_dict, options, run_metadata)\u001b[0m\n\u001b[0;32m   1114\u001b[0m \u001b[1;33m\u001b[0m\u001b[0m\n\u001b[0;32m   1115\u001b[0m           \u001b[0mfeed_dict_tensor\u001b[0m\u001b[1;33m[\u001b[0m\u001b[0msubfeed_t\u001b[0m\u001b[1;33m]\u001b[0m \u001b[1;33m=\u001b[0m \u001b[0mnp_val\u001b[0m\u001b[1;33m\u001b[0m\u001b[0m\n\u001b[1;32m-> 1116\u001b[1;33m           \u001b[0mfeed_map\u001b[0m\u001b[1;33m[\u001b[0m\u001b[0mcompat\u001b[0m\u001b[1;33m.\u001b[0m\u001b[0mas_bytes\u001b[0m\u001b[1;33m(\u001b[0m\u001b[0msubfeed_t\u001b[0m\u001b[1;33m.\u001b[0m\u001b[0mname\u001b[0m\u001b[1;33m)\u001b[0m\u001b[1;33m]\u001b[0m \u001b[1;33m=\u001b[0m \u001b[1;33m(\u001b[0m\u001b[0msubfeed_t\u001b[0m\u001b[1;33m,\u001b[0m \u001b[0msubfeed_val\u001b[0m\u001b[1;33m)\u001b[0m\u001b[1;33m\u001b[0m\u001b[0m\n\u001b[0m\u001b[0;32m   1117\u001b[0m \u001b[1;33m\u001b[0m\u001b[0m\n\u001b[0;32m   1118\u001b[0m     \u001b[1;31m# Create a fetch handler to take care of the structure of fetches.\u001b[0m\u001b[1;33m\u001b[0m\u001b[1;33m\u001b[0m\u001b[0m\n",
      "\u001b[1;32mC:\\ProgramData\\Anaconda3\\lib\\site-packages\\tensorflow\\python\\framework\\ops.py\u001b[0m in \u001b[0;36mname\u001b[1;34m(self)\u001b[0m\n\u001b[0;32m    333\u001b[0m     \u001b[1;32mif\u001b[0m \u001b[1;32mnot\u001b[0m \u001b[0mself\u001b[0m\u001b[1;33m.\u001b[0m\u001b[0m_op\u001b[0m\u001b[1;33m.\u001b[0m\u001b[0mname\u001b[0m\u001b[1;33m:\u001b[0m\u001b[1;33m\u001b[0m\u001b[0m\n\u001b[0;32m    334\u001b[0m       \u001b[1;32mraise\u001b[0m \u001b[0mValueError\u001b[0m\u001b[1;33m(\u001b[0m\u001b[1;34m\"Operation was not named: %s\"\u001b[0m \u001b[1;33m%\u001b[0m \u001b[0mself\u001b[0m\u001b[1;33m.\u001b[0m\u001b[0m_op\u001b[0m\u001b[1;33m)\u001b[0m\u001b[1;33m\u001b[0m\u001b[0m\n\u001b[1;32m--> 335\u001b[1;33m     \u001b[1;32mreturn\u001b[0m \u001b[1;34m\"%s:%d\"\u001b[0m \u001b[1;33m%\u001b[0m \u001b[1;33m(\u001b[0m\u001b[0mself\u001b[0m\u001b[1;33m.\u001b[0m\u001b[0m_op\u001b[0m\u001b[1;33m.\u001b[0m\u001b[0mname\u001b[0m\u001b[1;33m,\u001b[0m \u001b[0mself\u001b[0m\u001b[1;33m.\u001b[0m\u001b[0m_value_index\u001b[0m\u001b[1;33m)\u001b[0m\u001b[1;33m\u001b[0m\u001b[0m\n\u001b[0m\u001b[0;32m    336\u001b[0m \u001b[1;33m\u001b[0m\u001b[0m\n\u001b[0;32m    337\u001b[0m   \u001b[1;33m@\u001b[0m\u001b[0mproperty\u001b[0m\u001b[1;33m\u001b[0m\u001b[0m\n",
      "\u001b[1;32mC:\\ProgramData\\Anaconda3\\lib\\site-packages\\tensorflow\\python\\framework\\ops.py\u001b[0m in \u001b[0;36mname\u001b[1;34m(self)\u001b[0m\n\u001b[0;32m   1852\u001b[0m     \u001b[1;34m\"\"\"The full name of this operation.\"\"\"\u001b[0m\u001b[1;33m\u001b[0m\u001b[0m\n\u001b[0;32m   1853\u001b[0m     \u001b[1;32mif\u001b[0m \u001b[0mself\u001b[0m\u001b[1;33m.\u001b[0m\u001b[0m_c_op\u001b[0m\u001b[1;33m:\u001b[0m\u001b[1;33m\u001b[0m\u001b[0m\n\u001b[1;32m-> 1854\u001b[1;33m       \u001b[1;32mreturn\u001b[0m \u001b[0mc_api\u001b[0m\u001b[1;33m.\u001b[0m\u001b[0mTF_OperationName\u001b[0m\u001b[1;33m(\u001b[0m\u001b[0mself\u001b[0m\u001b[1;33m.\u001b[0m\u001b[0m_c_op\u001b[0m\u001b[1;33m)\u001b[0m\u001b[1;33m\u001b[0m\u001b[0m\n\u001b[0m\u001b[0;32m   1855\u001b[0m     \u001b[1;32melse\u001b[0m\u001b[1;33m:\u001b[0m\u001b[1;33m\u001b[0m\u001b[0m\n\u001b[0;32m   1856\u001b[0m       \u001b[1;32mreturn\u001b[0m \u001b[0mself\u001b[0m\u001b[1;33m.\u001b[0m\u001b[0m_node_def_val\u001b[0m\u001b[1;33m.\u001b[0m\u001b[0mname\u001b[0m\u001b[1;33m\u001b[0m\u001b[0m\n",
      "\u001b[1;31mKeyboardInterrupt\u001b[0m: "
     ]
    }
   ],
   "source": [
    "# let's train the model\n",
    "\n",
    "# save a checkpoint so we can restore the model later \n",
    "saver = tf.train.Saver()\n",
    "checkpointsPath = './checkpoints430/'\n",
    "restore = True\n",
    "starting_step = 0\n",
    "\n",
    "print('------------------TRAINING------------------')\n",
    "with tf.Session() as sess:\n",
    "    if (restore):\n",
    "        print('Restoring')\n",
    "        with open(checkpointsPath + 'checkpoint') as f:\n",
    "            starting_step = int(re.match('model_checkpoint_path: \"-([0-9]+)\"', list(f)[0]).groups()[0]) + 1\n",
    "        saver.restore(sess, tf.train.latest_checkpoint(checkpointsPath))\n",
    "        print('Running from step {}'.format(starting_step))\n",
    "    else:\n",
    "        print('Running from scratch: generating random model parameters.')\n",
    "        sess.run(init)\n",
    "    \n",
    "    t = time.time()\n",
    "    for step in range(starting_step, starting_step + steps):\n",
    "        feed = feed_dict(X_train, Y_train)\n",
    "            \n",
    "        backward_step(sess, feed)\n",
    "        \n",
    "        if step % 5 == 4 or step == 0:\n",
    "            loss_value = sess.run(loss, feed_dict = feed)\n",
    "            print('step: {}, loss: {}'.format(step, loss_value))\n",
    "            losses.append(loss_value)\n",
    "        \n",
    "        if step % 20 == 19:\n",
    "            saver.save(sess, checkpointsPath, global_step=step)\n",
    "            print('Checkpoint is saved')\n",
    "            \n",
    "    print('Training time for {} steps: {}s'.format(steps, time.time() - t))"
   ]
  },
  {
   "cell_type": "code",
   "execution_count": 21,
   "metadata": {},
   "outputs": [
    {
     "ename": "AttributeError",
     "evalue": "module 'tensorflow' has no attribute 'restore'",
     "output_type": "error",
     "traceback": [
      "\u001b[1;31m---------------------------------------------------------------------------\u001b[0m",
      "\u001b[1;31mAttributeError\u001b[0m                            Traceback (most recent call last)",
      "\u001b[1;32m<ipython-input-21-54403420fb75>\u001b[0m in \u001b[0;36m<module>\u001b[1;34m()\u001b[0m\n\u001b[1;32m----> 1\u001b[1;33m \u001b[0mtf\u001b[0m\u001b[1;33m.\u001b[0m\u001b[0mrestore\u001b[0m\u001b[1;33m(\u001b[0m\u001b[1;33m)\u001b[0m\u001b[1;33m\u001b[0m\u001b[0m\n\u001b[0m",
      "\u001b[1;31mAttributeError\u001b[0m: module 'tensorflow' has no attribute 'restore'"
     ]
    }
   ],
   "source": [
    "tf.restore()"
   ]
  },
  {
   "cell_type": "code",
   "execution_count": 24,
   "metadata": {
    "scrolled": true
   },
   "outputs": [
    {
     "data": {
      "image/png": "[encoded data removed]",
      "text/plain": [
       "<matplotlib.figure.Figure at 0x1b631b3ec18>"
      ]
     },
     "metadata": {},
     "output_type": "display_data"
    }
   ],
   "source": [
    "# plot losses\n",
    "\n",
    "with plt.style.context('fivethirtyeight'):\n",
    "    plt.plot(losses, linewidth = 1)\n",
    "    plt.xlabel('Steps (from step {})'.format(starting_step))\n",
    "    plt.ylabel('Losses')\n",
    "    plt.ylim((-1, 50))\n",
    "\n",
    "plt.show()"
   ]
  },
  {
   "cell_type": "code",
   "execution_count": 26,
   "metadata": {
    "scrolled": false
   },
   "outputs": [
    {
     "name": "stdout",
     "output_type": "stream",
     "text": [
      "INFO:tensorflow:Restoring parameters from ./checkpoints430/-259\n",
      "1.\n",
      "--------------------------------\n",
      "हे मम भ्रातरः  संसारो यदि युष्मान् द्वेष्टि तर्हि तद् आश्चर्य्यं न मन्यध्वं। <pad> <pad>\n",
      "\\u0939\\u0947 \\u092e\\u092e \\u092d\\u094d\\u0930\\u093e\\u0924\\u0930\\u0903  \\u0938\\u0902\\u0938\\u093e\\u0930\\u094b \\u092f\\u0926\\u093f \\u092f\\u0941\\u0937\\u094d\\u092e\\u093e\\u0928\\u094d \\u0926\\u094d\\u0935\\u0947\\u0937\\u094d\\u091f\\u093f \\u0924\\u0930\\u094d\\u0939\\u093f \\u0924\\u0926\\u094d \\u0906\\u0936\\u094d\\u091a\\u0930\\u094d\\u092f\\u094d\\u092f\\u0902 \\u0928 \\u092e\\u0928\\u094d\\u092f\\u0927\\u094d\\u0935\\u0902\\u0964 <pad> <pad>\n",
      "Marvel not  my brethren  if the world hate you hate Marvel not  my brethren  if the world hate you hate \n",
      "--------------------------------\n",
      "2.\n",
      "--------------------------------\n",
      "अपरं तस्मिन् पूर्व्वान्धे जने फिरूशिनां निकटम् आनीते सति फिरूशिनोपि तमपृच्छन् कथं दृष्टिं प्राप्तोसि  <pad>\n",
      "\\u0905\\u092a\\u0930\\u0902 \\u0924\\u0938\\u094d\\u092e\\u093f\\u0928\\u094d \\u092a\\u0942\\u0930\\u094d\\u0935\\u094d\\u0935\\u093e\\u0928\\u094d\\u0927\\u0947 \\u091c\\u0928\\u0947 \\u092b\\u093f\\u0930\\u0942\\u0936\\u093f\\u0928\\u093e\\u0902 \\u0928\\u093f\\u0915\\u091f\\u092e\\u094d \\u0906\\u0928\\u0940\\u0924\\u0947 \\u0938\\u0924\\u093f \\u092b\\u093f\\u0930\\u0942\\u0936\\u093f\\u0928\\u094b\\u092a\\u093f \\u0924\\u092e\\u092a\\u0943\\u091a\\u094d\\u091b\\u0928\\u094d \\u0915\\u0925\\u0902 \\u0926\\u0943\\u0937\\u094d\\u091f\\u093f\\u0902 \\u092a\\u094d\\u0930\\u093e\\u092a\\u094d\\u0924\\u094b\\u0938\\u093f  <pad>\n",
      "They brought to the Pharisees him that aforetime was blind  They brought to the Pharisees him that aforetime was blind  \n",
      "--------------------------------\n",
      "3.\n",
      "--------------------------------\n",
      "ततो यीशुरवदत् त्वया सार्द्धं कथनं करोमि योऽहम् अहमेव स पुरुषः। <pad> <pad> <pad> <pad> <pad>\n",
      "\\u0924\\u0924\\u094b \\u092f\\u0940\\u0936\\u0941\\u0930\\u0935\\u0926\\u0924\\u094d \\u0924\\u094d\\u0935\\u092f\\u093e \\u0938\\u093e\\u0930\\u094d\\u0926\\u094d\\u0927\\u0902 \\u0915\\u0925\\u0928\\u0902 \\u0915\\u0930\\u094b\\u092e\\u093f \\u092f\\u094b\\u093d\\u0939\\u092e\\u094d \\u0905\\u0939\\u092e\\u0947\\u0935 \\u0938 \\u092a\\u0941\\u0930\\u0941\\u0937\\u0903\\u0964 <pad> <pad> <pad> <pad> <pad>\n",
      "Jesus saith unto her  I that speak unto thee am am Jesus saith unto her  I that speak unto thee am am \n",
      "--------------------------------\n",
      "4.\n",
      "--------------------------------\n",
      "तस्माद् भवतः शिष्याणां समीपे तमानयं किन्तु ते तं स्वास्थं कर्त्तुं न शक्ताः। <pad> <pad> <pad>\n",
      "\\u0924\\u0938\\u094d\\u092e\\u093e\\u0926\\u094d \\u092d\\u0935\\u0924\\u0903 \\u0936\\u093f\\u0937\\u094d\\u092f\\u093e\\u0923\\u093e\\u0902 \\u0938\\u092e\\u0940\\u092a\\u0947 \\u0924\\u092e\\u093e\\u0928\\u092f\\u0902 \\u0915\\u093f\\u0928\\u094d\\u0924\\u0941 \\u0924\\u0947 \\u0924\\u0902 \\u0938\\u094d\\u0935\\u093e\\u0938\\u094d\\u0925\\u0902 \\u0915\\u0930\\u094d\\u0924\\u094d\\u0924\\u0941\\u0902 \\u0928 \\u0936\\u0915\\u094d\\u0924\\u093e\\u0903\\u0964 <pad> <pad> <pad>\n",
      "And I brought him to thy disciples  and they could they And I brought him to thy disciples  and they could they \n",
      "--------------------------------\n",
      "5.\n",
      "--------------------------------\n",
      "ततो यदि तेन लिखितवानि न प्रतिथ तर्हि मम वाक्यानि कथं प्रत्येष्यथ  <pad> <pad> <pad>\n",
      "\\u0924\\u0924\\u094b \\u092f\\u0926\\u093f \\u0924\\u0947\\u0928 \\u0932\\u093f\\u0916\\u093f\\u0924\\u0935\\u093e\\u0928\\u093f \\u0928 \\u092a\\u094d\\u0930\\u0924\\u093f\\u0925 \\u0924\\u0930\\u094d\\u0939\\u093f \\u092e\\u092e \\u0935\\u093e\\u0915\\u094d\\u092f\\u093e\\u0928\\u093f \\u0915\\u0925\\u0902 \\u092a\\u094d\\u0930\\u0924\\u094d\\u092f\\u0947\\u0937\\u094d\\u092f\\u0925  <pad> <pad> <pad>\n",
      "But if ye believe not his writings  how shall ye shall But if ye believe not his writings  how shall ye shall \n",
      "--------------------------------\n",
      "6.\n",
      "--------------------------------\n",
      "शेषे शौलं मृगयितुं बर्णब्बास्तार्षनगरं प्रस्थितवान्। तत्र तस्योद्देशं प्राप्य तम् आन्तियखियानगरम् आनयत्  <pad> <pad> <pad>\n",
      "\\u0936\\u0947\\u0937\\u0947 \\u0936\\u094c\\u0932\\u0902 \\u092e\\u0943\\u0917\\u092f\\u093f\\u0924\\u0941\\u0902 \\u092c\\u0930\\u094d\\u0923\\u092c\\u094d\\u092c\\u093e\\u0938\\u094d\\u0924\\u093e\\u0930\\u094d\\u0937\\u0928\\u0917\\u0930\\u0902 \\u092a\\u094d\\u0930\\u0938\\u094d\\u0925\\u093f\\u0924\\u0935\\u093e\\u0928\\u094d\\u0964 \\u0924\\u0924\\u094d\\u0930 \\u0924\\u0938\\u094d\\u092f\\u094b\\u0926\\u094d\\u0926\\u0947\\u0936\\u0902 \\u092a\\u094d\\u0930\\u093e\\u092a\\u094d\\u092f \\u0924\\u092e\\u094d \\u0906\\u0928\\u094d\\u0924\\u093f\\u092f\\u0916\\u093f\\u092f\\u093e\\u0928\\u0917\\u0930\\u092e\\u094d \\u0906\\u0928\\u092f\\u0924\\u094d  <pad> <pad> <pad>\n",
      "Then departed Barnabas to Tarsus  for to seek Saul  seek Then departed Barnabas to Tarsus  for to seek Saul  seek \n",
      "--------------------------------\n",
      "7.\n",
      "--------------------------------\n",
      "ततः सर्व्वे लोकास्तं गमनागमने कुर्व्वन्तम् ईश्वरं धन्यं वदन्तञ्च विलोक्य <pad> <pad> <pad> <pad> <pad> <pad>\n",
      "\\u0924\\u0924\\u0903 \\u0938\\u0930\\u094d\\u0935\\u094d\\u0935\\u0947 \\u0932\\u094b\\u0915\\u093e\\u0938\\u094d\\u0924\\u0902 \\u0917\\u092e\\u0928\\u093e\\u0917\\u092e\\u0928\\u0947 \\u0915\\u0941\\u0930\\u094d\\u0935\\u094d\\u0935\\u0928\\u094d\\u0924\\u092e\\u094d \\u0908\\u0936\\u094d\\u0935\\u0930\\u0902 \\u0927\\u0928\\u094d\\u092f\\u0902 \\u0935\\u0926\\u0928\\u094d\\u0924\\u091e\\u094d\\u091a \\u0935\\u093f\\u0932\\u094b\\u0915\\u094d\\u092f <pad> <pad> <pad> <pad> <pad> <pad>\n",
      "And all the people saw him walking and praising God  and And all the people saw him walking and praising God  and \n",
      "--------------------------------\n",
      "8.\n",
      "--------------------------------\n",
      "ततो लोका उच्चैःकारं प्रत्यवदन्  एष मनुजरवो न हि  ईश्वरीयरवः। <pad> <pad> <pad> <pad>\n",
      "\\u0924\\u0924\\u094b \\u0932\\u094b\\u0915\\u093e \\u0909\\u091a\\u094d\\u091a\\u0948\\u0903\\u0915\\u093e\\u0930\\u0902 \\u092a\\u094d\\u0930\\u0924\\u094d\\u092f\\u0935\\u0926\\u0928\\u094d  \\u090f\\u0937 \\u092e\\u0928\\u0941\\u091c\\u0930\\u0935\\u094b \\u0928 \\u0939\\u093f  \\u0908\\u0936\\u094d\\u0935\\u0930\\u0940\\u092f\\u0930\\u0935\\u0903\\u0964 <pad> <pad> <pad> <pad>\n",
      "But the word of God grew and multiplied  shall God But the word of God grew and multiplied  shall God \n",
      "--------------------------------\n",
      "9.\n",
      "--------------------------------\n",
      "परेशानुग्रहे कालं प्रचारयितुमेव च। सर्व्वैतत्करणार्थाय मामेव प्रहिणोति सः॥ <pad> <pad> <pad> <pad> <pad> <pad> <pad>\n",
      "\\u092a\\u0930\\u0947\\u0936\\u093e\\u0928\\u0941\\u0917\\u094d\\u0930\\u0939\\u0947 \\u0915\\u093e\\u0932\\u0902 \\u092a\\u094d\\u0930\\u091a\\u093e\\u0930\\u092f\\u093f\\u0924\\u0941\\u092e\\u0947\\u0935 \\u091a\\u0964 \\u0938\\u0930\\u094d\\u0935\\u094d\\u0935\\u0948\\u0924\\u0924\\u094d\\u0915\\u0930\\u0923\\u093e\\u0930\\u094d\\u0925\\u093e\\u092f \\u092e\\u093e\\u092e\\u0947\\u0935 \\u092a\\u094d\\u0930\\u0939\\u093f\\u0923\\u094b\\u0924\\u093f \\u0938\\u0903\\u0965 <pad> <pad> <pad> <pad> <pad> <pad> <pad>\n",
      "To preach the acceptable year of the Lord  of seen To preach the acceptable year of the Lord  of seen \n",
      "--------------------------------\n",
      "10.\n",
      "--------------------------------\n",
      "यः कश्चित् <ukn> व्यवस्थाम् अवमन्यते स दयां विना <ukn> वा <ukn> <ukn> <ukn>  <pad>\n",
      "\\u092f\\u0903 \\u0915\\u0936\\u094d\\u091a\\u093f\\u0924\\u094d <ukn> \\u0935\\u094d\\u092f\\u0935\\u0938\\u094d\\u0925\\u093e\\u092e\\u094d \\u0905\\u0935\\u092e\\u0928\\u094d\\u092f\\u0924\\u0947 \\u0938 \\u0926\\u092f\\u093e\\u0902 \\u0935\\u093f\\u0928\\u093e <ukn> \\u0935\\u093e <ukn> <ukn> <ukn>  <pad>\n",
      "He that despised Moses ' law died without mercy under two died He that despised Moses ' law died without mercy under two died \n",
      "--------------------------------\n"
     ]
    }
   ],
   "source": [
    "# let's test the model\n",
    "\n",
    "with tf.Graph().as_default():\n",
    "    \n",
    "    # placeholders\n",
    "    encoder_inputs = [tf.placeholder(dtype = tf.int32, shape = [None], name = 'encoder{}'.format(i)) for i in range(input_seq_len)]\n",
    "    decoder_inputs = [tf.placeholder(dtype = tf.int32, shape = [None], name = 'decoder{}'.format(i)) for i in range(output_seq_len)]\n",
    "\n",
    "    # output projection\n",
    "    size = 512\n",
    "    w_t = tf.get_variable('proj_w', [de_vocab_size, size], tf.float32)\n",
    "    b = tf.get_variable('proj_b', [de_vocab_size], tf.float32)\n",
    "    w = tf.transpose(w_t)\n",
    "    output_projection = (w, b)\n",
    "    \n",
    "    # change the model so that output at time t can be fed as input at time t+1\n",
    "    outputs, states = tf.contrib.legacy_seq2seq.embedding_attention_seq2seq(\n",
    "                                                encoder_inputs,\n",
    "                                                decoder_inputs,\n",
    "                                                tf.contrib.rnn.BasicLSTMCell(size),\n",
    "                                                num_encoder_symbols = en_vocab_size,\n",
    "                                                num_decoder_symbols = de_vocab_size,\n",
    "                                                embedding_size = 100,\n",
    "                                                feed_previous = True, # <-----this is changed----->\n",
    "                                                output_projection = output_projection,\n",
    "                                                dtype = tf.float32)\n",
    "    \n",
    "    # ops for projecting outputs\n",
    "    outputs_proj = [tf.matmul(outputs[i], output_projection[0]) + output_projection[1] for i in range(output_seq_len)]\n",
    "\n",
    "    #let's translate these sentences     \n",
    "#     en_sentences = [\"\\u0907\\u092c\\u094d\\u0930\\u093e\\u0939\\u0940\\u092e\\u0903 \\u0938\\u0928\\u094d\\u0924\\u093e\\u0928\\u094b \\u0926\\u093e\\u092f\\u0942\\u0926\\u094d \\u0924\\u0938\\u094d\\u092f \",\\\n",
    "#                     '\\u0938\\u0928\\u094d\\u0924\\u093e\\u0928\\u094b \\u092f\\u0940\\u0936\\u0941\\u0916\\u094d\\u0930\\u0940\\u0937\\u094d\\u091f\\u0938\\u094d\\u0924\\u0938\\u094d\\u092f']\n",
    "#     en_sentences_encoded = [[en_word2idx.get(word, 0) for word in en_sentence.split()] for en_sentence in en_sentences]\n",
    "    en_sentences_encoded = X_train[:10]\n",
    "    # padding to fit encoder input\n",
    "    for i in range(len(en_sentences_encoded)):\n",
    "        en_sentences_encoded[i] += (15 - len(en_sentences_encoded[i])) * [en_word2idx['<pad>']]\n",
    "    \n",
    "    # restore all variables - use the last checkpoint saved\n",
    "    saver = tf.train.Saver()\n",
    "    path = tf.train.latest_checkpoint(checkpointsPath)\n",
    "    \n",
    "    with tf.Session() as sess:\n",
    "        # restore\n",
    "        saver.restore(sess, path)\n",
    "        \n",
    "        # feed data into placeholders\n",
    "        feed = {}\n",
    "        for i in range(input_seq_len):\n",
    "            feed[encoder_inputs[i].name] = np.array([en_sentences_encoded[j][i] for j in range(len(en_sentences_encoded))], dtype = np.int32)\n",
    "            \n",
    "        feed[decoder_inputs[0].name] = np.array([de_word2idx['<go>']] * len(en_sentences_encoded), dtype = np.int32)\n",
    "        \n",
    "        # translate\n",
    "        output_sequences = sess.run(outputs_proj, feed_dict = feed)\n",
    "        \n",
    "        # decode seq.\n",
    "        for i in range(len(en_sentences_encoded)):\n",
    "            print('{}.\\n--------------------------------'.format(i+1))\n",
    "            ouput_seq = [output_sequences[j][i] for j in range(output_seq_len)]\n",
    "            #decode output sequence\n",
    "            words = decode_output(ouput_seq)\n",
    "        \n",
    "            print(\" \". join([convert_sanskrit(en_idx2word[word]) for word in en_sentences_encoded[i]]))\n",
    "            print(\" \". join([(en_idx2word[word]) for word in en_sentences_encoded[i]]))\n",
    "            for i in range(len(words)):\n",
    "                if words[i] not in ['<eos>', '<pad>', '<go>']:\n",
    "                    print((words[i]), end = \" \")\n",
    "            for i in range(len(words)):\n",
    "                if words[i] not in ['<eos>', '<pad>', '<go>']:\n",
    "                    print(words[i], end = \" \")\n",
    "            \n",
    "            print('\\n--------------------------------')"
   ]
  },
  {
   "cell_type": "markdown",
   "metadata": {},
   "source": [
    "# This model can be improved by using more training steps, better dataset or even with better selection of hyperparameters "
   ]
  },
  {
   "cell_type": "code",
   "execution_count": null,
   "metadata": {
    "collapsed": true
   },
   "outputs": [],
   "source": []
  }
 ],
 "metadata": {
  "kernelspec": {
   "display_name": "Python 3",
   "language": "python",
   "name": "python3"
  },
  "language_info": {
   "codemirror_mode": {
    "name": "ipython",
    "version": 3
   },
   "file_extension": ".py",
   "mimetype": "text/x-python",
   "name": "python",
   "nbconvert_exporter": "python",
   "pygments_lexer": "ipython3",
   "version": "3.6.4"
  }
 },
 "nbformat": 4,
 "nbformat_minor": 2
}
